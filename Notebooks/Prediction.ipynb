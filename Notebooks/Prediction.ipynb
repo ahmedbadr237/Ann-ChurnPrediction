{
 "cells": [
  {
   "cell_type": "code",
   "execution_count": 4,
   "id": "4f20e6c1-db49-4fab-801b-d59ef0c0cf7b",
   "metadata": {},
   "outputs": [],
   "source": [
    "import pandas as pd\n",
    "import numpy as np\n",
    "import pickle"
   ]
  },
  {
   "cell_type": "code",
   "execution_count": 5,
   "id": "22ae7e2b-86f8-4033-9e15-fc0856aa9a82",
   "metadata": {},
   "outputs": [
    {
     "name": "stderr",
     "output_type": "stream",
     "text": [
      "WARNING:absl:Compiled the loaded model, but the compiled metrics have yet to be built. `model.compile_metrics` will be empty until you train or evaluate the model.\n"
     ]
    }
   ],
   "source": [
    "from tensorflow.keras.models import load_model\n",
    "model = load_model('Models\\\\no_ol_model.h5')"
   ]
  },
  {
   "cell_type": "code",
   "execution_count": 6,
   "id": "8cf7ad5f-68c1-4aee-9c6d-8e9a82e4e195",
   "metadata": {},
   "outputs": [],
   "source": [
    "sc = pickle.load(open('Models\\\\robus_scaler.pkl','rb'))\n",
    "gender = pickle.load(open('Models\\\\gender.pkl','rb'))\n",
    "geo = pickle.load(open('Models\\\\geo.pkl','rb'))"
   ]
  },
  {
   "cell_type": "code",
   "execution_count": 7,
   "id": "dfcebdb3-be4c-43b4-a34b-a50175d966d1",
   "metadata": {},
   "outputs": [],
   "source": [
    "input_data = {'CreditScore':800,\n",
    "             'Age':25,\n",
    "             'Tenure':3,\n",
    "             'Balance':25000,\n",
    "             'NumOfProducts':2,\n",
    "             'HasCrCard':1,\n",
    "            'IsActiveMember':1,\n",
    "             'EstimatedSalary':20000,\n",
    "             'Gender':'Female',\n",
    "             'Geography':'France'}"
   ]
  },
  {
   "cell_type": "code",
   "execution_count": 8,
   "id": "4447cfce-eab4-4759-a976-9192362a2bf1",
   "metadata": {},
   "outputs": [],
   "source": [
    "input_data = pd.DataFrame([input_data])"
   ]
  },
  {
   "cell_type": "code",
   "execution_count": 9,
   "id": "99354844-f196-4da7-be9c-af0c2ba9b742",
   "metadata": {},
   "outputs": [],
   "source": [
    "input_data = pd.concat([input_data,\n",
    "                        pd.DataFrame(columns=gender.get_feature_names_out(),\n",
    "                                     data=gender.transform(input_data[['Gender']]).toarray())],\n",
    "                       axis=1).drop(columns=['Gender'])"
   ]
  },
  {
   "cell_type": "code",
   "execution_count": 10,
   "id": "ae248b5c-2e85-47ea-8d9a-42fe40b9ad5b",
   "metadata": {},
   "outputs": [],
   "source": [
    "input_data = pd.concat([input_data,\n",
    "               pd.DataFrame(columns=geo.get_feature_names_out(),\n",
    "                        data=geo.transform(input_data[['Geography']]).toarray())],axis=1)"
   ]
  },
  {
   "cell_type": "code",
   "execution_count": 11,
   "id": "31230672-abd3-425a-b4a7-5dfbaf035244",
   "metadata": {},
   "outputs": [],
   "source": [
    "input_data.drop(columns=['Geography'],inplace=True)"
   ]
  },
  {
   "cell_type": "code",
   "execution_count": 12,
   "id": "c95c103b-8828-4deb-8e18-8db412c28b39",
   "metadata": {},
   "outputs": [],
   "source": [
    "input_data = sc.transform(input_data)"
   ]
  },
  {
   "cell_type": "code",
   "execution_count": 13,
   "id": "0f90970e-577d-4340-886d-659086ae7fef",
   "metadata": {},
   "outputs": [
    {
     "name": "stdout",
     "output_type": "stream",
     "text": [
      "\u001b[1m1/1\u001b[0m \u001b[32m━━━━━━━━━━━━━━━━━━━━\u001b[0m\u001b[37m\u001b[0m \u001b[1m0s\u001b[0m 167ms/step\n"
     ]
    }
   ],
   "source": [
    "prediction = model.predict(input_data)"
   ]
  },
  {
   "cell_type": "code",
   "execution_count": 14,
   "id": "48d95847-f337-40d9-9ae0-35c559b5478e",
   "metadata": {},
   "outputs": [
    {
     "data": {
      "text/plain": [
       "0"
      ]
     },
     "execution_count": 14,
     "metadata": {},
     "output_type": "execute_result"
    }
   ],
   "source": [
    "np.argmax(prediction, axis=1)[0]"
   ]
  }
 ],
 "metadata": {
  "kernelspec": {
   "display_name": "Python 3",
   "language": "python",
   "name": "python3"
  },
  "language_info": {
   "codemirror_mode": {
    "name": "ipython",
    "version": 3
   },
   "file_extension": ".py",
   "mimetype": "text/x-python",
   "name": "python",
   "nbconvert_exporter": "python",
   "pygments_lexer": "ipython3",
   "version": "3.11.0"
  }
 },
 "nbformat": 4,
 "nbformat_minor": 5
}
